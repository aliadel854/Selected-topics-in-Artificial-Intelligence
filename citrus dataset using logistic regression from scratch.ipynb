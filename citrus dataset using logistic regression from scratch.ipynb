{
 "cells": [
  {
   "cell_type": "code",
   "execution_count": 1,
   "id": "8c4f3f46",
   "metadata": {},
   "outputs": [],
   "source": [
    "import numpy as np\n",
    "import pandas as pd\n",
    "import matplotlib.pyplot as plt\n",
    "import seaborn as sns\n",
    "import numpy as np\n",
    "import pandas as pd\n",
    "import math\n",
    "from sklearn import preprocessing\n",
    "from sklearn.model_selection import train_test_split\n",
    "from sklearn import metrics\n",
    "from sklearn.preprocessing import MinMaxScaler\n",
    "from sklearn.model_selection import train_test_split\n",
    "from sklearn.preprocessing import MinMaxScaler\n",
    "from sklearn.metrics import precision_recall_curve\n",
    "from sklearn.metrics import plot_precision_recall_curve\n",
    "from sklearn.metrics import precision_score\n",
    "from sklearn.metrics import recall_score\n",
    "%matplotlib inline\n",
    "from sklearn.metrics import confusion_matrix"
   ]
  },
  {
   "cell_type": "code",
   "execution_count": 2,
   "id": "6649fbc5",
   "metadata": {},
   "outputs": [
    {
     "data": {
      "text/html": [
       "<div>\n",
       "<style scoped>\n",
       "    .dataframe tbody tr th:only-of-type {\n",
       "        vertical-align: middle;\n",
       "    }\n",
       "\n",
       "    .dataframe tbody tr th {\n",
       "        vertical-align: top;\n",
       "    }\n",
       "\n",
       "    .dataframe thead th {\n",
       "        text-align: right;\n",
       "    }\n",
       "</style>\n",
       "<table border=\"1\" class=\"dataframe\">\n",
       "  <thead>\n",
       "    <tr style=\"text-align: right;\">\n",
       "      <th></th>\n",
       "      <th>name</th>\n",
       "      <th>diameter</th>\n",
       "      <th>weight</th>\n",
       "      <th>red</th>\n",
       "      <th>green</th>\n",
       "      <th>blue</th>\n",
       "    </tr>\n",
       "  </thead>\n",
       "  <tbody>\n",
       "    <tr>\n",
       "      <th>0</th>\n",
       "      <td>orange</td>\n",
       "      <td>2.96</td>\n",
       "      <td>86.76</td>\n",
       "      <td>172</td>\n",
       "      <td>85</td>\n",
       "      <td>2</td>\n",
       "    </tr>\n",
       "    <tr>\n",
       "      <th>1</th>\n",
       "      <td>orange</td>\n",
       "      <td>3.91</td>\n",
       "      <td>88.05</td>\n",
       "      <td>166</td>\n",
       "      <td>78</td>\n",
       "      <td>3</td>\n",
       "    </tr>\n",
       "    <tr>\n",
       "      <th>2</th>\n",
       "      <td>orange</td>\n",
       "      <td>4.42</td>\n",
       "      <td>95.17</td>\n",
       "      <td>156</td>\n",
       "      <td>81</td>\n",
       "      <td>2</td>\n",
       "    </tr>\n",
       "    <tr>\n",
       "      <th>3</th>\n",
       "      <td>orange</td>\n",
       "      <td>4.47</td>\n",
       "      <td>95.60</td>\n",
       "      <td>163</td>\n",
       "      <td>81</td>\n",
       "      <td>4</td>\n",
       "    </tr>\n",
       "    <tr>\n",
       "      <th>4</th>\n",
       "      <td>orange</td>\n",
       "      <td>4.48</td>\n",
       "      <td>95.76</td>\n",
       "      <td>161</td>\n",
       "      <td>72</td>\n",
       "      <td>9</td>\n",
       "    </tr>\n",
       "    <tr>\n",
       "      <th>...</th>\n",
       "      <td>...</td>\n",
       "      <td>...</td>\n",
       "      <td>...</td>\n",
       "      <td>...</td>\n",
       "      <td>...</td>\n",
       "      <td>...</td>\n",
       "    </tr>\n",
       "    <tr>\n",
       "      <th>9995</th>\n",
       "      <td>grapefruit</td>\n",
       "      <td>15.35</td>\n",
       "      <td>253.89</td>\n",
       "      <td>149</td>\n",
       "      <td>77</td>\n",
       "      <td>20</td>\n",
       "    </tr>\n",
       "    <tr>\n",
       "      <th>9996</th>\n",
       "      <td>grapefruit</td>\n",
       "      <td>15.41</td>\n",
       "      <td>254.67</td>\n",
       "      <td>148</td>\n",
       "      <td>68</td>\n",
       "      <td>7</td>\n",
       "    </tr>\n",
       "    <tr>\n",
       "      <th>9997</th>\n",
       "      <td>grapefruit</td>\n",
       "      <td>15.59</td>\n",
       "      <td>256.50</td>\n",
       "      <td>168</td>\n",
       "      <td>82</td>\n",
       "      <td>20</td>\n",
       "    </tr>\n",
       "    <tr>\n",
       "      <th>9998</th>\n",
       "      <td>grapefruit</td>\n",
       "      <td>15.92</td>\n",
       "      <td>260.14</td>\n",
       "      <td>142</td>\n",
       "      <td>72</td>\n",
       "      <td>11</td>\n",
       "    </tr>\n",
       "    <tr>\n",
       "      <th>9999</th>\n",
       "      <td>grapefruit</td>\n",
       "      <td>16.45</td>\n",
       "      <td>261.51</td>\n",
       "      <td>152</td>\n",
       "      <td>74</td>\n",
       "      <td>2</td>\n",
       "    </tr>\n",
       "  </tbody>\n",
       "</table>\n",
       "<p>10000 rows × 6 columns</p>\n",
       "</div>"
      ],
      "text/plain": [
       "            name  diameter  weight  red  green  blue\n",
       "0         orange      2.96   86.76  172     85     2\n",
       "1         orange      3.91   88.05  166     78     3\n",
       "2         orange      4.42   95.17  156     81     2\n",
       "3         orange      4.47   95.60  163     81     4\n",
       "4         orange      4.48   95.76  161     72     9\n",
       "...          ...       ...     ...  ...    ...   ...\n",
       "9995  grapefruit     15.35  253.89  149     77    20\n",
       "9996  grapefruit     15.41  254.67  148     68     7\n",
       "9997  grapefruit     15.59  256.50  168     82    20\n",
       "9998  grapefruit     15.92  260.14  142     72    11\n",
       "9999  grapefruit     16.45  261.51  152     74     2\n",
       "\n",
       "[10000 rows x 6 columns]"
      ]
     },
     "execution_count": 2,
     "metadata": {},
     "output_type": "execute_result"
    }
   ],
   "source": [
    "df = pd.read_csv('citrus.csv') \n",
    "df"
   ]
  },
  {
   "cell_type": "code",
   "execution_count": 3,
   "id": "9c3044e3",
   "metadata": {},
   "outputs": [
    {
     "data": {
      "text/plain": [
       "orange        5000\n",
       "grapefruit    5000\n",
       "Name: name, dtype: int64"
      ]
     },
     "execution_count": 3,
     "metadata": {},
     "output_type": "execute_result"
    }
   ],
   "source": [
    "#label\n",
    "df['name'].value_counts()"
   ]
  },
  {
   "cell_type": "code",
   "execution_count": 4,
   "id": "5e2d60c8",
   "metadata": {},
   "outputs": [
    {
     "data": {
      "text/plain": [
       "name        0\n",
       "diameter    0\n",
       "weight      0\n",
       "red         0\n",
       "green       0\n",
       "blue        0\n",
       "dtype: int64"
      ]
     },
     "execution_count": 4,
     "metadata": {},
     "output_type": "execute_result"
    }
   ],
   "source": [
    "# All data are numbers there is no null or missed values\n",
    "df.isnull().sum()"
   ]
  },
  {
   "cell_type": "code",
   "execution_count": 5,
   "id": "4898429c",
   "metadata": {},
   "outputs": [
    {
     "name": "stdout",
     "output_type": "stream",
     "text": [
      "           diameter        weight           red         green          blue\n",
      "count  10000.000000  10000.000000  10000.000000  10000.000000  10000.000000\n",
      "mean       9.975685    175.050792    153.847800     76.010600     11.363200\n",
      "std        1.947844     29.212119     10.432954     11.708433      9.061275\n",
      "min        2.960000     86.760000    115.000000     31.000000      2.000000\n",
      "25%        8.460000    152.220000    147.000000     68.000000      2.000000\n",
      "50%        9.980000    174.985000    154.000000     76.000000     10.000000\n",
      "75%       11.480000    197.722500    161.000000     84.000000     17.000000\n",
      "max       16.450000    261.510000    192.000000    116.000000     56.000000\n"
     ]
    }
   ],
   "source": [
    "print(df.describe())"
   ]
  },
  {
   "cell_type": "code",
   "execution_count": 6,
   "id": "f8c1106a",
   "metadata": {},
   "outputs": [
    {
     "data": {
      "text/plain": [
       "<AxesSubplot:xlabel='name', ylabel='count'>"
      ]
     },
     "execution_count": 6,
     "metadata": {},
     "output_type": "execute_result"
    },
    {
     "data": {
      "image/png": "[encoded data removed]",
      "text/plain": [
       "<Figure size 432x288 with 1 Axes>"
      ]
     },
     "metadata": {
      "needs_background": "light"
     },
     "output_type": "display_data"
    }
   ],
   "source": [
    "sns.countplot(x = \"name\", data = df)"
   ]
  },
  {
   "cell_type": "code",
   "execution_count": 7,
   "id": "c19a742f",
   "metadata": {},
   "outputs": [],
   "source": [
    "features = df.drop(['name'], axis = 1)\n",
    "labels = df['name']"
   ]
  },
  {
   "cell_type": "code",
   "execution_count": 8,
   "id": "65914af8",
   "metadata": {},
   "outputs": [],
   "source": [
    "# encode labels from names to numbers\n",
    "le = preprocessing.LabelEncoder()\n",
    "labels = le.fit_transform(labels)"
   ]
  },
  {
   "cell_type": "code",
   "execution_count": 9,
   "id": "6ba918bf",
   "metadata": {},
   "outputs": [],
   "source": [
    "# scale the features to [0-1] scale\n",
    "scaler = MinMaxScaler()\n",
    "features = scaler.fit_transform(features)"
   ]
  },
  {
   "cell_type": "code",
   "execution_count": 10,
   "id": "407fb5ef",
   "metadata": {},
   "outputs": [
    {
     "data": {
      "text/plain": [
       "array([1, 1, 1, ..., 0, 0, 0])"
      ]
     },
     "execution_count": 10,
     "metadata": {},
     "output_type": "execute_result"
    }
   ],
   "source": [
    "labels"
   ]
  },
  {
   "cell_type": "code",
   "execution_count": 11,
   "id": "a616f907",
   "metadata": {},
   "outputs": [
    {
     "data": {
      "text/plain": [
       "array([[0.        , 0.        , 0.74025974, 0.63529412, 0.        ],\n",
       "       [0.07042254, 0.00738197, 0.66233766, 0.55294118, 0.01851852],\n",
       "       [0.10822832, 0.04812589, 0.53246753, 0.58823529, 0.        ],\n",
       "       ...,\n",
       "       [0.93624907, 0.97133047, 0.68831169, 0.6       , 0.33333333],\n",
       "       [0.96071164, 0.99216023, 0.35064935, 0.48235294, 0.16666667],\n",
       "       [1.        , 1.        , 0.48051948, 0.50588235, 0.        ]])"
      ]
     },
     "execution_count": 11,
     "metadata": {},
     "output_type": "execute_result"
    }
   ],
   "source": [
    "features"
   ]
  },
  {
   "cell_type": "code",
   "execution_count": 12,
   "id": "c736ebcb",
   "metadata": {},
   "outputs": [],
   "source": [
    "X_train, X_test, y_train, y_test = train_test_split(features, labels, test_size=0.3)"
   ]
  },
  {
   "cell_type": "code",
   "execution_count": 13,
   "id": "e45d3763",
   "metadata": {},
   "outputs": [
    {
     "data": {
      "text/plain": [
       "(7000, 5)"
      ]
     },
     "execution_count": 13,
     "metadata": {},
     "output_type": "execute_result"
    }
   ],
   "source": [
    "X_train.shape"
   ]
  },
  {
   "cell_type": "code",
   "execution_count": 14,
   "id": "71f7adff",
   "metadata": {},
   "outputs": [
    {
     "data": {
      "text/plain": [
       "(7000,)"
      ]
     },
     "execution_count": 14,
     "metadata": {},
     "output_type": "execute_result"
    }
   ],
   "source": [
    "y_train.shape"
   ]
  },
  {
   "cell_type": "code",
   "execution_count": 15,
   "id": "05d72673",
   "metadata": {},
   "outputs": [
    {
     "data": {
      "text/plain": [
       "(3000, 5)"
      ]
     },
     "execution_count": 15,
     "metadata": {},
     "output_type": "execute_result"
    }
   ],
   "source": [
    " X_test.shape"
   ]
  },
  {
   "cell_type": "code",
   "execution_count": 16,
   "id": "82ca3c36",
   "metadata": {},
   "outputs": [
    {
     "data": {
      "text/plain": [
       "(3000,)"
      ]
     },
     "execution_count": 16,
     "metadata": {},
     "output_type": "execute_result"
    }
   ],
   "source": [
    "y_test.shape"
   ]
  },
  {
   "cell_type": "code",
   "execution_count": 17,
   "id": "1c0b6c44",
   "metadata": {},
   "outputs": [],
   "source": [
    "def sigmoid(z):\n",
    "    g = 1/(1+np.exp(-z))\n",
    "    return g"
   ]
  },
  {
   "cell_type": "code",
   "execution_count": 18,
   "id": "289e5c4b",
   "metadata": {},
   "outputs": [],
   "source": [
    "def compute_cost(X, y, w, b, lambda_= 1):\n",
    "    m, n = X.shape\n",
    "    cost = 0.\n",
    "    \n",
    "    for i in range(m):\n",
    "        z_i = np.dot(X[i],w) + b\n",
    "        f_wb_i = sigmoid(z_i)\n",
    "        cost +=  -y[i]*np.log(f_wb_i) - (1-y[i])*np.log(1-f_wb_i)\n",
    "             \n",
    "    cost = cost / m                                     \n",
    "     \n",
    "\n",
    "    return cost\n"
   ]
  },
  {
   "cell_type": "code",
   "execution_count": 19,
   "id": "8cf464ad",
   "metadata": {},
   "outputs": [],
   "source": [
    "# GRADED FUNCTION: compute_gradient\n",
    "def compute_gradient(X, y, w, b, lambda_=None): \n",
    "    m, n = X.shape\n",
    "    dj_dw = np.zeros(w.shape)\n",
    "    dj_db = 0.\n",
    "    for i in range(m):\n",
    "        z_wb = 0\n",
    "        for j in range(n): \n",
    "            z_wb += w[j]*X[i][j]\n",
    "        z_wb += b\n",
    "        f_wb = sigmoid(z_wb)\n",
    "        \n",
    "        dj_db_i = f_wb - y[i]\n",
    "        dj_db += dj_db_i\n",
    "        \n",
    "        for j in range(n):\n",
    "            dj_dw[j] += (f_wb - y[i])* X[i][j]\n",
    "            \n",
    "            \n",
    "    dj_dw = dj_dw / m \n",
    "    dj_db = dj_db / m \n",
    "    \n",
    "    return dj_db, dj_dw"
   ]
  },
  {
   "cell_type": "code",
   "execution_count": 20,
   "id": "f22e0c2c",
   "metadata": {},
   "outputs": [
    {
     "name": "stdout",
     "output_type": "stream",
     "text": [
      "dj_db at initial w (zeros):-0.0012857142857142856\n",
      "dj_dw at initial w (zeros):[0.05493227787779274, 0.06294673615368908, -0.01960296846011134, -0.03596218487394953, 0.03928439153439175]\n"
     ]
    }
   ],
   "source": [
    "# Compute and display gradient with w initialized to zeroes\n",
    "m, n = X_train.shape\n",
    "initial_w = np.zeros(n)\n",
    "initial_b = 0.\n",
    "\n",
    "dj_db, dj_dw = compute_gradient(X_train, y_train, initial_w, initial_b)\n",
    "print(f'dj_db at initial w (zeros):{dj_db}' )\n",
    "print(f'dj_dw at initial w (zeros):{dj_dw.tolist()}' )"
   ]
  },
  {
   "cell_type": "code",
   "execution_count": 21,
   "id": "b8aad69d",
   "metadata": {},
   "outputs": [],
   "source": [
    "def gradient_descent(X, y, w_in, b_in, cost_function, gradient_function, alpha, num_iters, lambda_): \n",
    "    \n",
    "    # number of training examples\n",
    "    m = len(X)\n",
    "    # An array to store cost J and w's at each iteration primarily for graphing later\n",
    "    J_history = []\n",
    "    w_history = []\n",
    "    for i in range(num_iters):\n",
    "        # Calculate the gradient and update the parameters\n",
    "        dj_db, dj_dw = gradient_function(X, y, w_in, b_in, lambda_)   \n",
    "        # Update Parameters using w, b, alpha and gradient\n",
    "        w_in = w_in - alpha * dj_dw               \n",
    "        b_in = b_in - alpha * dj_db              \n",
    "        # Save cost J at each iteration\n",
    "        if i<100000:      # prevent resource exhaustion \n",
    "            cost =  cost_function(X, y, w_in, b_in, lambda_)\n",
    "            J_history.append(cost)\n",
    "\n",
    "        # Print cost every at intervals 10 times or as many iterations if < 10\n",
    "        if i% math.ceil(num_iters/10) == 0 or i == (num_iters-1):\n",
    "            w_history.append(w_in)\n",
    "            print(f\"Iteration {i:4}: Cost {float(J_history[-1]):8.2f}   \")\n",
    "        \n",
    "    return w_in, b_in, J_history, w_history #return w and J,w history for graphing"
   ]
  },
  {
   "cell_type": "code",
   "execution_count": 22,
   "id": "5676b106",
   "metadata": {},
   "outputs": [
    {
     "name": "stdout",
     "output_type": "stream",
     "text": [
      "Iteration    0: Cost     2.05   \n",
      "Iteration   20: Cost     0.40   \n",
      "Iteration   40: Cost     0.30   \n",
      "Iteration   60: Cost     0.26   \n",
      "Iteration   80: Cost     0.24   \n",
      "Iteration  100: Cost     0.23   \n",
      "Iteration  120: Cost     0.22   \n",
      "Iteration  140: Cost     0.21   \n",
      "Iteration  160: Cost     0.20   \n",
      "Iteration  180: Cost     0.20   \n",
      "Iteration  199: Cost     0.20   \n"
     ]
    }
   ],
   "source": [
    "np.random.seed(1)\n",
    "intial_w = 0.01 * (np.random.rand(2).reshape(-1,1) - 0.5)\n",
    "initial_b = -8\n",
    "\n",
    "\n",
    "# Some gradient descent settings\n",
    "iterations = 200\n",
    "alpha = 4\n",
    "\n",
    "w,b, J_history,_ = gradient_descent(X_train ,y_train, initial_w, initial_b, \n",
    "                                   compute_cost, compute_gradient, alpha, iterations, 0)"
   ]
  },
  {
   "cell_type": "code",
   "execution_count": 23,
   "id": "7ca59c5c",
   "metadata": {},
   "outputs": [],
   "source": [
    "def predict(X, w, b): \n",
    "    # number of training examples\n",
    "    m, n = X.shape   \n",
    "    p = np.zeros(m)\n",
    "    \n",
    "    # Loop over each example\n",
    "    for i in range(m):   \n",
    "        z_wb = 0\n",
    "        # Loop over each feature\n",
    "        for j in range(n): \n",
    "            # Add the corresponding term to z_wb\n",
    "            z_wb += w[j] * X[i][j]\n",
    "        \n",
    "        # Add bias term \n",
    "        z_wb += b\n",
    "        \n",
    "        # Calculate the prediction for this example\n",
    "        f_wb = sigmoid(z_wb)\n",
    "\n",
    "        # Apply the threshold\n",
    "        p[i] = f_wb >= 0.5\n",
    "         \n",
    "    return p"
   ]
  },
  {
   "cell_type": "code",
   "execution_count": 24,
   "id": "31a2cf04",
   "metadata": {},
   "outputs": [
    {
     "name": "stdout",
     "output_type": "stream",
     "text": [
      "Train Accuracy: 92.914286\n"
     ]
    }
   ],
   "source": [
    "#Compute accuracy on our training set\n",
    "p = predict(X_train, w,b)\n",
    "print('Train Accuracy: %f'%(np.mean(p == y_train) * 100))"
   ]
  },
  {
   "cell_type": "code",
   "execution_count": 25,
   "id": "e1c897ed",
   "metadata": {},
   "outputs": [
    {
     "name": "stdout",
     "output_type": "stream",
     "text": [
      "Test Accuracy: 91.833333\n"
     ]
    }
   ],
   "source": [
    "#Compute accuracy on our training set\n",
    "p = predict(X_test, w,b)\n",
    "print('Test Accuracy: %f'%(np.mean(p == y_test) * 100))"
   ]
  },
  {
   "cell_type": "code",
   "execution_count": 26,
   "id": "87cb6e0e",
   "metadata": {},
   "outputs": [
    {
     "name": "stdout",
     "output_type": "stream",
     "text": [
      "Precision:  0.9170013386880856\n",
      "Recall:  0.9188464118041583\n"
     ]
    }
   ],
   "source": [
    "#calculating precision and reall\n",
    "precision = precision_score(y_test, p)\n",
    "recall = recall_score(y_test, p)\n",
    " \n",
    "print('Precision: ',precision)\n",
    "print('Recall: ',recall)\n",
    " "
   ]
  },
  {
   "cell_type": "code",
   "execution_count": 27,
   "id": "40daae44",
   "metadata": {},
   "outputs": [],
   "source": [
    "def F1_score(y,y_hat):\n",
    "    tp,tn,fp,fn = 0,0,0,0\n",
    "    for i in range(len(y)):\n",
    "        if y[i] == 1 and y_hat[i] == 1:\n",
    "            tp += 1\n",
    "        elif y[i] == 1 and y_hat[i] == 0:\n",
    "            fn += 1\n",
    "        elif y[i] == 0 and y_hat[i] == 1:\n",
    "            fp += 1\n",
    "        elif y[i] == 0 and y_hat[i] == 0:\n",
    "            tn += 1\n",
    "    precision = tp/(tp+fp)\n",
    "    recall = tp/(tp+fn)\n",
    "    f1_score = (2*precision*recall)/(precision+recall)\n",
    "    return f1_score"
   ]
  },
  {
   "cell_type": "code",
   "execution_count": 28,
   "id": "7afc1647",
   "metadata": {},
   "outputs": [
    {
     "name": "stdout",
     "output_type": "stream",
     "text": [
      "0.9179229480737018\n"
     ]
    }
   ],
   "source": [
    "f1_score_tr = F1_score(y_test, p)\n",
    "print(f1_score_tr)"
   ]
  },
  {
   "cell_type": "code",
   "execution_count": 29,
   "id": "998d8809",
   "metadata": {},
   "outputs": [
    {
     "data": {
      "text/plain": [
       "array([[1385,  124],\n",
       "       [ 121, 1370]], dtype=int64)"
      ]
     },
     "execution_count": 29,
     "metadata": {},
     "output_type": "execute_result"
    }
   ],
   "source": [
    "confusion_matrix(y_test, p)"
   ]
  },
  {
   "cell_type": "code",
   "execution_count": null,
   "id": "d7d731de",
   "metadata": {},
   "outputs": [],
   "source": []
  },
  {
   "cell_type": "code",
   "execution_count": null,
   "id": "6c2dae22",
   "metadata": {},
   "outputs": [],
   "source": []
  }
 ],
 "metadata": {
  "kernelspec": {
   "display_name": "Python 3 (ipykernel)",
   "language": "python",
   "name": "python3"
  },
  "language_info": {
   "codemirror_mode": {
    "name": "ipython",
    "version": 3
   },
   "file_extension": ".py",
   "mimetype": "text/x-python",
   "name": "python",
   "nbconvert_exporter": "python",
   "pygments_lexer": "ipython3",
   "version": "3.10.5"
  }
 },
 "nbformat": 4,
 "nbformat_minor": 5
}
