{
 "cells": [
  {
   "cell_type": "code",
   "execution_count": 2,
   "id": "0bfcdb96",
   "metadata": {},
   "outputs": [],
   "source": [
    "import numpy as np\n",
    "import cv2 as cv\n",
    "import pandas as pd\n",
    "from matplotlib import pyplot as plt\n",
    "from tqdm import tqdm\n",
    "from sklearn.cluster import DBSCAN"
   ]
  },
  {
   "cell_type": "code",
   "execution_count": 60,
   "id": "aea49ada",
   "metadata": {},
   "outputs": [],
   "source": [
    "df = x_reduced"
   ]
  },
  {
   "cell_type": "code",
   "execution_count": 61,
   "id": "fa109e59",
   "metadata": {},
   "outputs": [],
   "source": [
    "import numpy as np\n",
    "from sklearn.neighbors import NearestNeighbors\n",
    "# n_neighbors = 5 as kneighbors function returns distance of point to itself (i.e. first column will be zeros) \n",
    "nbrs = NearestNeighbors(n_neighbors=5).fit(df)\n",
    "# Find the k-neighbors of a point\n",
    "neigh_dist, neigh_ind = nbrs.kneighbors(df)\n",
    "# sort the neighbor distances (lengths to points) in ascending order\n",
    "# axis = 0 represents sort along first axis i.e. sort along row\n",
    "sort_neigh_dist = np.sort(neigh_dist, axis=0)"
   ]
  },
  {
   "cell_type": "code",
   "execution_count": 64,
   "id": "f9340684",
   "metadata": {},
   "outputs": [
    {
     "data": {
      "image/png": "[encoded data removed]",
      "text/plain": [
       "<Figure size 432x288 with 1 Axes>"
      ]
     },
     "metadata": {
      "needs_background": "light"
     },
     "output_type": "display_data"
    }
   ],
   "source": [
    "import matplotlib.pyplot as plt\n",
    "k_dist = sort_neigh_dist[:, 4]\n",
    "plt.plot(k_dist)\n",
    "plt.axhline(y=20, linewidth=1, linestyle='dashed', color='k')\n",
    "plt.ylabel(\"k-NN distance\")\n",
    "plt.xlabel(\"Sorted observations (4th NN)\")\n",
    "plt.show()"
   ]
  },
  {
   "cell_type": "code",
   "execution_count": 7,
   "id": "df2e1b2d",
   "metadata": {},
   "outputs": [],
   "source": [
    "# dataset = pd.read_csv(\"Downloads\\\\citrus.csv\")\n",
    "# dataset = dataset[4000:6000]\n",
    "# df = dataset.drop(\"name\",axis=1)\n",
    "dataset = pd.read_csv(\"https://reneshbedre.github.io/assets/posts/tsne/tsne_scores.csv\")\n",
    "dataset = pd.read_csv(\"Downloads\\\\diabetes2.csv\")\n",
    "x_train = dataset.to_numpy()"
   ]
  },
  {
   "cell_type": "code",
   "execution_count": 222,
   "id": "aab5abc5",
   "metadata": {},
   "outputs": [
    {
     "name": "stdout",
     "output_type": "stream",
     "text": [
      "<class 'pandas.core.frame.DataFrame'>\n",
      "RangeIndex: 768 entries, 0 to 767\n",
      "Data columns (total 8 columns):\n",
      " #   Column                    Non-Null Count  Dtype  \n",
      "---  ------                    --------------  -----  \n",
      " 0   Pregnancies               768 non-null    int64  \n",
      " 1   Glucose                   768 non-null    int64  \n",
      " 2   BloodPressure             768 non-null    int64  \n",
      " 3   SkinThickness             768 non-null    int64  \n",
      " 4   Insulin                   768 non-null    int64  \n",
      " 5   BMI                       768 non-null    float64\n",
      " 6   DiabetesPedigreeFunction  768 non-null    float64\n",
      " 7   Age                       768 non-null    int64  \n",
      "dtypes: float64(2), int64(6)\n",
      "memory usage: 48.1 KB\n"
     ]
    }
   ],
   "source": [
    "df = dataset.drop(\"Outcome\", axis=1)\n",
    "df.info()"
   ]
  },
  {
   "cell_type": "code",
   "execution_count": 74,
   "id": "a15f0681",
   "metadata": {},
   "outputs": [],
   "source": [
    "clusters = DBSCAN(eps=2.5, min_samples=4).fit(dataset)"
   ]
  },
  {
   "cell_type": "code",
   "execution_count": 8,
   "id": "a6bb5d60",
   "metadata": {},
   "outputs": [],
   "source": [
    "from collections import Counter\n",
    "# print((clusters.labels_).shape)\n",
    "x_train = dataset.to_numpy()[:,:-1]\n",
    "y = dataset.to_numpy()[:,-1]"
   ]
  },
  {
   "cell_type": "code",
   "execution_count": 57,
   "id": "f9abde0c",
   "metadata": {},
   "outputs": [],
   "source": [
    "x_train = x_train.T\n",
    "for i in range(x_train.shape[0]):\n",
    "    max_ = x_train[i].max()\n",
    "    min_ = x_train[i].min()\n",
    "    m = max_- min_\n",
    "    x_train[i]-=min_\n",
    "    x_train[i]/=m\n",
    "\n",
    "x_train = x_train.T"
   ]
  },
  {
   "cell_type": "code",
   "execution_count": 9,
   "id": "3f464bf0",
   "metadata": {},
   "outputs": [
    {
     "data": {
      "text/plain": [
       "(768, 8)"
      ]
     },
     "execution_count": 9,
     "metadata": {},
     "output_type": "execute_result"
    }
   ],
   "source": [
    "x_train.shape"
   ]
  },
  {
   "cell_type": "code",
   "execution_count": 10,
   "id": "72fbaa60",
   "metadata": {},
   "outputs": [],
   "source": [
    "class PCA:\n",
    "    def __init__(self,n_components=1):\n",
    "        self.n_components = n_components\n",
    "        self.covariance=None\n",
    "        self.eigen_vector = None\n",
    "        self.mean = None\n",
    "    def fit(self, dataset):\n",
    "        if (not len(dataset.shape)==2):\n",
    "            print(f\"Error expected dimensions = 2 but got {len(dataset.shape)}\")\n",
    "            return\n",
    "        else:\n",
    "            d_size = dataset.shape[1]\n",
    "            self.covariance = np.zeros((dataset.shape[1],dataset.shape[1]))\n",
    "            self.mean = np.mean(dataset , axis = 0)\n",
    "            dataset = dataset - self.mean\n",
    "            # Cov (x,y) = Σ ( (xi – x) * (yi – y) / N\n",
    "            r=0\n",
    "            for i in dataset.T:    \n",
    "                l=0\n",
    "                for j in dataset.T:\n",
    "                    k = i.dot(j)/(i.shape[0]-1)\n",
    "                    self.covariance[r,l] = k\n",
    "                    l+=1\n",
    "                r+=1\n",
    "        eigen_value, eigen_vector = np.linalg.eig(self.covariance)\n",
    "        \n",
    "        idx = np.argsort(eigen_value)[::-1]\n",
    "        eigen_value, eigen_vector = eigen_value[idx], eigen_vector.T[idx]\n",
    "        self.eigen_vector = eigen_vector[:self.n_components].T\n",
    "            \n",
    "            \n",
    "    def transform(self, sample):\n",
    "        sample = sample-np.mean(sample, axis=0)\n",
    "        return sample.dot(self.eigen_vector)\n",
    "                    \n",
    "    def inverse_transform(self, sample):\n",
    "        return sample.dot(self.eigen_vector.T)+self.mean\n",
    "        "
   ]
  },
  {
   "cell_type": "code",
   "execution_count": 36,
   "id": "af7c3368",
   "metadata": {},
   "outputs": [],
   "source": [
    "pca =PCA(5)\n",
    "pca.fit(x_train)\n",
    "x_reduced = pca.transform(x_train)\n",
    "x_recounstructed = pca.inverse_transform(x_reduced)\n"
   ]
  },
  {
   "cell_type": "code",
   "execution_count": 37,
   "id": "3b008352",
   "metadata": {},
   "outputs": [
    {
     "name": "stdout",
     "output_type": "stream",
     "text": [
      "[[6.70957726e+00 1.47825119e+02 7.17373513e+01 3.42339638e+01\n",
      "  2.22484164e-02 3.69576534e+01 5.34593122e-01 4.99383628e+01]\n",
      " [3.56651189e+00 8.47185513e+01 6.55740565e+01 2.77613208e+01\n",
      "  3.79221068e-02 3.20196290e+01 4.37558079e-01 3.06662139e+01]] [[  6.    148.     72.     35.      0.     33.6     0.627  50.   ]\n",
      " [  1.     85.     66.     29.      0.     26.6     0.351  31.   ]]\n"
     ]
    }
   ],
   "source": [
    "print(x_recounstructed[:2], x_train[:2])"
   ]
  },
  {
   "cell_type": "markdown",
   "id": "24deaf4c",
   "metadata": {},
   "source": [
    "# DBSCAN"
   ]
  },
  {
   "cell_type": "code",
   "execution_count": 13,
   "id": "c8212c15",
   "metadata": {},
   "outputs": [],
   "source": [
    "#DBSCAN Loop\n",
    "def group_1(dic, minpts, truth_):\n",
    "    \n",
    "    dics = []\n",
    "    for idxs in tqdm(range(len(dic))):\n",
    "        idx = set()\n",
    "        if truth_[idxs]:\n",
    "            if len(dic[idxs])>=minpts:\n",
    "                truth_[idxs]=False\n",
    "                for j in dic[idxs]:\n",
    "#                     idx.add(j)\n",
    "                    ls = group_2(dic, j, truth_)\n",
    "                    for k in ls:\n",
    "                        idx.add(k)\n",
    "                dics.append(idx)\n",
    "    return dics\n",
    "    \n",
    "def group_2(dic, dic_, truth_):\n",
    "    \n",
    "    dics = []\n",
    "    \n",
    "    idx = set()\n",
    "    if truth_[dic_]:\n",
    "\n",
    "        truth_[dic_]=False\n",
    "        for j in dic[dic_]:\n",
    "            idx.add(j)\n",
    "            ls = group_2(dic, j, truth_)\n",
    "            for k in ls:\n",
    "                idx.add(k)\n",
    "        dics.append(idx)\n",
    "    else:\n",
    "        return set()\n",
    "    return idx"
   ]
  },
  {
   "cell_type": "markdown",
   "id": "6a059d68",
   "metadata": {},
   "source": [
    "# With PCA"
   ]
  },
  {
   "cell_type": "code",
   "execution_count": 14,
   "id": "b385780b",
   "metadata": {},
   "outputs": [],
   "source": [
    "x = x_reduced.copy()"
   ]
  },
  {
   "cell_type": "code",
   "execution_count": 21,
   "id": "bda28577",
   "metadata": {},
   "outputs": [
    {
     "name": "stderr",
     "output_type": "stream",
     "text": [
      "100%|█████████████████████████████████████████████████████████████████████████████| 768/768 [00:00<00:00, 13053.82it/s]\n",
      "100%|██████████████████████████████████████████████████████████████████████████████| 768/768 [00:00<00:00, 3132.59it/s]\n"
     ]
    }
   ],
   "source": [
    "shape = x.shape[0]\n",
    "epsilon = 15\n",
    "#calc distance\n",
    "distance = np.array([np.concatenate((np.sqrt(np.sum(np.power(np.subtract(x[i],x[0:i+1]),2),axis=1).astype(np.float32)), np.zeros((shape-i-1,))),axis=0) for i in tqdm(range(shape))])\n",
    "distance+=distance.T\n",
    "\n",
    "dic=[]\n",
    "\n",
    "dex = 0\n",
    "for i in tqdm(range(shape)):\n",
    "    idx = np.arange(0,distance[i].shape[0],1)\n",
    "    \n",
    "    dic.append(np.array([l for l in idx if distance[i,l]<=epsilon]))\n",
    "    \n",
    "\n",
    "    \n",
    "    "
   ]
  },
  {
   "cell_type": "code",
   "execution_count": 22,
   "id": "aa917367",
   "metadata": {},
   "outputs": [
    {
     "name": "stderr",
     "output_type": "stream",
     "text": [
      "100%|█████████████████████████████████████████████████████████████████████████████| 768/768 [00:00<00:00, 22174.52it/s]\n"
     ]
    }
   ],
   "source": [
    "minpoints = 4\n",
    "truth = np.full((shape, ), True, dtype=bool)\n",
    "d = group_1(dic,minpoints, truth)"
   ]
  },
  {
   "cell_type": "code",
   "execution_count": 23,
   "id": "221e5123",
   "metadata": {},
   "outputs": [
    {
     "name": "stdout",
     "output_type": "stream",
     "text": [
      "5\n",
      "334\n",
      "275\n",
      "32\n",
      "12\n",
      "5\n",
      "total-> 658 noise-> 110\n"
     ]
    }
   ],
   "source": [
    "g = [np.array(list(g)) for g in d if len(g)>=minpoints]\n",
    "print(len(g))\n",
    "s=0\n",
    "for k in g:\n",
    "    print(len(k))\n",
    "    s+=len(k)\n",
    "print(\"total->\", s, \"noise->\", x_reduced.shape[0]-s)\n"
   ]
  },
  {
   "cell_type": "code",
   "execution_count": 189,
   "id": "a42a5c2e",
   "metadata": {},
   "outputs": [
    {
     "data": {
      "text/plain": [
       "(768,)"
      ]
     },
     "execution_count": 189,
     "metadata": {},
     "output_type": "execute_result"
    }
   ],
   "source": [
    "# def class_(groups, index):\n",
    "#     j = 0\n",
    "#     for gr in groups:\n",
    "#         if index in gr:\n",
    "#             return j+1\n",
    "#         j+=1\n",
    "#     return 0\n",
    "    \n",
    "# ls = np.zeros((x_reduced.shape[0],), dtype=np.uint8)\n",
    "# for i in range(x_reduced.shape[0]):\n",
    "# #     print(i)\n",
    "#     ls[i] = class_(g, i)\n",
    "# ls = ls.reshape((-1,))\n",
    "# ls.shape\n",
    "# # xr = np.concatenate((x,x),axis=1)\n",
    "# # xr.shape"
   ]
  },
  {
   "cell_type": "code",
   "execution_count": 215,
   "id": "197db58e",
   "metadata": {},
   "outputs": [
    {
     "data": {
      "text/plain": [
       "10"
      ]
     },
     "execution_count": 215,
     "metadata": {},
     "output_type": "execute_result"
    }
   ],
   "source": [
    "# out_=[]\n",
    "# y = dataset[\"Outcome\"].to_numpy()\n",
    "# for i in range(len(g)):\n",
    "#     if (y[g[i]]==0).sum()/len(g[i])>0.5:\n",
    "#         out_.append(0)\n",
    "#     else:\n",
    "#         out_.append(1)\n",
    "# out_\n",
    "# r=3\n",
    "# (y[g[r]]==1).sum()"
   ]
  },
  {
   "cell_type": "code",
   "execution_count": 190,
   "id": "45b7b0b1",
   "metadata": {},
   "outputs": [],
   "source": [
    "# xr=pd.DataFrame(x,columns=[\"0\",\"1\",\"2\"])"
   ]
  },
  {
   "cell_type": "code",
   "execution_count": 154,
   "id": "1aec3247",
   "metadata": {},
   "outputs": [
    {
     "data": {
      "image/png": "[encoded data removed]",
      "text/plain": [
       "<Figure size 432x288 with 1 Axes>"
      ]
     },
     "metadata": {
      "needs_background": "light"
     },
     "output_type": "display_data"
    }
   ],
   "source": [
    "# import seaborn as sns\n",
    "# import matplotlib.pyplot as plt\n",
    "# p = sns.scatterplot(data=xr, x=\"0\", y=\"2\", hue=ls, legend=\"full\", palette=\"deep\")\n",
    "# plt.show()"
   ]
  },
  {
   "cell_type": "markdown",
   "id": "11737097",
   "metadata": {},
   "source": [
    "# Without PCA"
   ]
  },
  {
   "cell_type": "code",
   "execution_count": 24,
   "id": "a7f6d292",
   "metadata": {},
   "outputs": [
    {
     "data": {
      "text/plain": [
       "(768, 8)"
      ]
     },
     "execution_count": 24,
     "metadata": {},
     "output_type": "execute_result"
    }
   ],
   "source": [
    "x = x_train.copy()\n",
    "x.shape"
   ]
  },
  {
   "cell_type": "code",
   "execution_count": 31,
   "id": "c10f00c1",
   "metadata": {},
   "outputs": [
    {
     "name": "stderr",
     "output_type": "stream",
     "text": [
      "100%|██████████████████████████████████████████████████████████████████████████████| 768/768 [00:00<00:00, 5679.97it/s]\n",
      "100%|██████████████████████████████████████████████████████████████████████████████| 768/768 [00:00<00:00, 1746.75it/s]\n"
     ]
    }
   ],
   "source": [
    "shape = x.shape[0]\n",
    "epsilon = 20\n",
    "#calc distance\n",
    "distance = np.array([np.concatenate((np.sqrt(np.sum(np.power(np.subtract(x[i],x[0:i+1]),2),axis=1).astype(np.float32)), np.zeros((shape-i-1,))),axis=0) for i in tqdm(range(shape))])\n",
    "distance+=distance.T\n",
    "\n",
    "dic=[]\n",
    "\n",
    "dex = 0\n",
    "for i in tqdm(range(shape)):\n",
    "    idx = np.arange(0,distance[i].shape[0],1)\n",
    "    \n",
    "    dic.append(np.array([l for l in idx if distance[i,l]<=epsilon]))\n",
    "    \n",
    "    \n",
    "\n",
    "    \n",
    "    "
   ]
  },
  {
   "cell_type": "code",
   "execution_count": 32,
   "id": "54356444",
   "metadata": {},
   "outputs": [
    {
     "name": "stderr",
     "output_type": "stream",
     "text": [
      "100%|█████████████████████████████████████████████████████████████████████████████| 768/768 [00:00<00:00, 42076.72it/s]\n"
     ]
    }
   ],
   "source": [
    "minpoints = 4\n",
    "truth = np.full((shape, ), True, dtype=bool)\n",
    "d = group_1(dic,minpoints, truth)"
   ]
  },
  {
   "cell_type": "code",
   "execution_count": 33,
   "id": "feae4570",
   "metadata": {},
   "outputs": [
    {
     "name": "stdout",
     "output_type": "stream",
     "text": [
      "6\n",
      "309\n",
      "232\n",
      "22\n",
      "7\n",
      "6\n",
      "7\n",
      "total-> 583 noise-> 185\n"
     ]
    }
   ],
   "source": [
    "g = [np.array(list(g)) for g in d if len(g)>=minpoints]\n",
    "print(len(g))\n",
    "s=0\n",
    "for k in g:\n",
    "    print(len(k))\n",
    "    s+=len(k)\n",
    "print(\"total->\", s, \"noise->\", x_train.shape[0]-s)"
   ]
  },
  {
   "cell_type": "code",
   "execution_count": 55,
   "id": "56997783",
   "metadata": {},
   "outputs": [
    {
     "data": {
      "text/plain": [
       "(768,)"
      ]
     },
     "execution_count": 55,
     "metadata": {},
     "output_type": "execute_result"
    }
   ],
   "source": [
    "# def class_(groups, index):\n",
    "#     j = 0\n",
    "#     for gr in groups:\n",
    "#         if index in gr:\n",
    "#             return j\n",
    "#         j+=1\n",
    "#     return 999\n",
    "    \n",
    "# ls = np.zeros((x_train.shape[0],), dtype=np.uint8)\n",
    "# for i in range(x_train.shape[0]):\n",
    "#     ls[i] = class_(g, i)\n",
    "# ls = ls.reshape((-1,))\n",
    "# ls.shape"
   ]
  }
 ],
 "metadata": {
  "kernelspec": {
   "display_name": "Python 3 (ipykernel)",
   "language": "python",
   "name": "python3"
  },
  "language_info": {
   "codemirror_mode": {
    "name": "ipython",
    "version": 3
   },
   "file_extension": ".py",
   "mimetype": "text/x-python",
   "name": "python",
   "nbconvert_exporter": "python",
   "pygments_lexer": "ipython3",
   "version": "3.10.5"
  }
 },
 "nbformat": 4,
 "nbformat_minor": 5
}
