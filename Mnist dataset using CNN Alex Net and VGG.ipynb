{
 "cells": [
  {
   "cell_type": "code",
   "execution_count": 1,
   "id": "418a392f",
   "metadata": {},
   "outputs": [],
   "source": [
    "import keras\n",
    "import keras.backend as K\n",
    "from keras.models import Model\n",
    "import tensorflow as tf\n",
    "import tensorflow.keras.layers  as KL\n",
    "import tensorflow.keras.models  as KM\n",
    "from tensorflow.keras.optimizers import SGD\n",
    "from tensorflow import keras\n",
    "from keras.layers import Input, Dense, Conv2D, Conv3D, DepthwiseConv2D, SeparableConv2D, Conv3DTranspose\n",
    "from keras.layers import Flatten, MaxPool2D, AvgPool2D, GlobalAvgPool2D, UpSampling2D, BatchNormalization , AveragePooling2D\n",
    "from keras.layers import Concatenate, Add, Dropout, ReLU, Lambda, Activation, LeakyReLU, PReLU\n",
    "\n",
    "from IPython.display import SVG\n",
    "from keras.utils.vis_utils import model_to_dot\n",
    "\n",
    "from time import time\n",
    "import numpy as np"
   ]
  },
  {
   "cell_type": "code",
   "execution_count": 2,
   "id": "74f94d93",
   "metadata": {},
   "outputs": [],
   "source": [
    "mnist = tf.keras.datasets.mnist\n",
    "(x_train, y_train), (x_test, y_test) = mnist.load_data() "
   ]
  },
  {
   "cell_type": "code",
   "execution_count": 3,
   "id": "0a706f49",
   "metadata": {},
   "outputs": [],
   "source": [
    "x_train = x_train/255.0\n",
    "x_test = x_test/255.0"
   ]
  },
  {
   "cell_type": "code",
   "execution_count": 4,
   "id": "2732d960",
   "metadata": {},
   "outputs": [],
   "source": [
    "#Expand the shape of an array.\n",
    "x_train = np.expand_dims(x_train, axis=3)\n",
    "x_test = np.expand_dims(x_test, axis=3)"
   ]
  },
  {
   "cell_type": "code",
   "execution_count": 5,
   "id": "76b0fa48",
   "metadata": {},
   "outputs": [],
   "source": [
    "# #AlexNet\n",
    "# def alexnet(input_shape, n_classes):\n",
    "#   input = KL.Input(shape=(28, 28, 1))\n",
    "  \n",
    "#   # actually batch normalization didn't exist back then\n",
    "#   # they used LRN (Local Response Normalization) for regularization\n",
    "#   x = Conv2D(96, 11, strides=4, padding='same', activation='relu')(input)\n",
    "#   x = BatchNormalization()(x)\n",
    "#   x = MaxPool2D(3, strides=2)(x)\n",
    "  \n",
    "#   x = Conv2D(256, 5, padding='same', activation='relu')(x)\n",
    "#   x = BatchNormalization()(x)\n",
    "#   x = MaxPool2D(3, strides=2)(x)\n",
    "  \n",
    "#   x = Conv2D(384, 3, strides=1, padding='same', activation='relu')(x)\n",
    "  \n",
    "#   x = Conv2D(384, 3, strides=1, padding='same', activation='relu')(x)\n",
    "  \n",
    "#   x = Conv2D(256, 3, strides=1, padding='same', activation='relu')(x)\n",
    "#   x = BatchNormalization()(x)\n",
    "#   x = KL.GlobalMaxPooling2D()(x)\n",
    "  \n",
    "#   x = Flatten()(x)\n",
    "#   x = Dense(4096, activation='relu')(x)\n",
    "#   x = Dense(4096, activation='relu')(x)\n",
    "  \n",
    "#   output = Dense(n_classes , activation='softmax')(x)\n",
    "  \n",
    "#   model = Model(input, output)\n",
    "#   return model\n"
   ]
  },
  {
   "cell_type": "code",
   "execution_count": 7,
   "id": "88bb1ca6",
   "metadata": {},
   "outputs": [],
   "source": [
    "#VGG16\n",
    "def vgg(input_shape, n_classes):\n",
    "  \n",
    "  input = KL.Input(shape=(28, 28, 1))\n",
    "  \n",
    "  x = Conv2D(64, 3, padding='same', activation='relu')(input)\n",
    "  x = Conv2D(64, 3, padding='same', activation='relu')(x)\n",
    "  x = MaxPool2D(2, strides=2, padding='same')(x)\n",
    "  \n",
    "  x = Conv2D(128, 3, padding='same', activation='relu')(x)\n",
    "  x = Conv2D(128, 3, padding='same', activation='relu')(x)\n",
    "  x = MaxPool2D(2, strides=2, padding='same')(x)\n",
    "  \n",
    "  x = Conv2D(256, 3, padding='same', activation='relu')(x)\n",
    "  x = Conv2D(256, 3, padding='same', activation='relu')(x)\n",
    "  x = Conv2D(256, 3, padding='same', activation='relu')(x)\n",
    "  x = MaxPool2D(2, strides=2, padding='same')(x)\n",
    "  \n",
    "  x = Conv2D(512, 3, padding='same', activation='relu')(x)\n",
    "  x = Conv2D(512, 3, padding='same', activation='relu')(x)\n",
    "  x = Conv2D(512, 3, padding='same', activation='relu')(x)\n",
    "  x = MaxPool2D(2, strides=2, padding='same')(x)\n",
    "  \n",
    "  x = Conv2D(512, 3, padding='same', activation='relu')(x)\n",
    "  x = Conv2D(512, 3, padding='same', activation='relu')(x)\n",
    "  x = Conv2D(512, 3, padding='same', activation='relu')(x)\n",
    "  x = MaxPool2D(2, strides=2, padding='same')(x)\n",
    "  \n",
    "  x = Flatten()(x)\n",
    "  x = Dense(4096, activation='relu')(x)\n",
    "  x = Dense(4096, activation='relu')(x)\n",
    "  \n",
    "  output = Dense(n_classes , activation='softmax')(x)\n",
    "  \n",
    "  model = Model(input, output)\n",
    "  return model"
   ]
  },
  {
   "cell_type": "code",
   "execution_count": 8,
   "id": "f4395625",
   "metadata": {},
   "outputs": [
    {
     "name": "stdout",
     "output_type": "stream",
     "text": [
      "Model: \"model\"\n",
      "_________________________________________________________________\n",
      " Layer (type)                Output Shape              Param #   \n",
      "=================================================================\n",
      " input_1 (InputLayer)        [(None, 28, 28, 1)]       0         \n",
      "                                                                 \n",
      " conv2d (Conv2D)             (None, 28, 28, 64)        640       \n",
      "                                                                 \n",
      " conv2d_1 (Conv2D)           (None, 28, 28, 64)        36928     \n",
      "                                                                 \n",
      " max_pooling2d (MaxPooling2D  (None, 14, 14, 64)       0         \n",
      " )                                                               \n",
      "                                                                 \n",
      " conv2d_2 (Conv2D)           (None, 14, 14, 128)       73856     \n",
      "                                                                 \n",
      " conv2d_3 (Conv2D)           (None, 14, 14, 128)       147584    \n",
      "                                                                 \n",
      " max_pooling2d_1 (MaxPooling  (None, 7, 7, 128)        0         \n",
      " 2D)                                                             \n",
      "                                                                 \n",
      " conv2d_4 (Conv2D)           (None, 7, 7, 256)         295168    \n",
      "                                                                 \n",
      " conv2d_5 (Conv2D)           (None, 7, 7, 256)         590080    \n",
      "                                                                 \n",
      " conv2d_6 (Conv2D)           (None, 7, 7, 256)         590080    \n",
      "                                                                 \n",
      " max_pooling2d_2 (MaxPooling  (None, 4, 4, 256)        0         \n",
      " 2D)                                                             \n",
      "                                                                 \n",
      " conv2d_7 (Conv2D)           (None, 4, 4, 512)         1180160   \n",
      "                                                                 \n",
      " conv2d_8 (Conv2D)           (None, 4, 4, 512)         2359808   \n",
      "                                                                 \n",
      " conv2d_9 (Conv2D)           (None, 4, 4, 512)         2359808   \n",
      "                                                                 \n",
      " max_pooling2d_3 (MaxPooling  (None, 2, 2, 512)        0         \n",
      " 2D)                                                             \n",
      "                                                                 \n",
      " conv2d_10 (Conv2D)          (None, 2, 2, 512)         2359808   \n",
      "                                                                 \n",
      " conv2d_11 (Conv2D)          (None, 2, 2, 512)         2359808   \n",
      "                                                                 \n",
      " conv2d_12 (Conv2D)          (None, 2, 2, 512)         2359808   \n",
      "                                                                 \n",
      " max_pooling2d_4 (MaxPooling  (None, 1, 1, 512)        0         \n",
      " 2D)                                                             \n",
      "                                                                 \n",
      " flatten (Flatten)           (None, 512)               0         \n",
      "                                                                 \n",
      " dense (Dense)               (None, 4096)              2101248   \n",
      "                                                                 \n",
      " dense_1 (Dense)             (None, 4096)              16781312  \n",
      "                                                                 \n",
      " dense_2 (Dense)             (None, 10)                40970     \n",
      "                                                                 \n",
      "=================================================================\n",
      "Total params: 33,637,066\n",
      "Trainable params: 33,637,066\n",
      "Non-trainable params: 0\n",
      "_________________________________________________________________\n"
     ]
    }
   ],
   "source": [
    "input_shape = KL.Input(shape=(28, 28, 1))\n",
    "n_classes = 10\n",
    "\n",
    "K.clear_session()\n",
    "model = vgg(input_shape, n_classes)\n",
    "model.summary()"
   ]
  },
  {
   "cell_type": "code",
   "execution_count": 10,
   "id": "94cf52ee",
   "metadata": {},
   "outputs": [
    {
     "name": "stdout",
     "output_type": "stream",
     "text": [
      "1875/1875 [==============================] - 2314s 1s/step - loss: 0.2173 - accuracy: 0.9343\n",
      "313/313 [==============================] - 43s 128ms/step - loss: 0.0544 - accuracy: 0.9857\n",
      "Test Loss: 0.05436287820339203 - Test Acc: 98.5700011253357\n"
     ]
    }
   ],
   "source": [
    "opt = SGD(learning_rate=0.01, momentum=0.9)    \n",
    "#model.compile(optimizer=\"adam\", loss=\"sparse_categorical_crossentropy\", metrics=[\"accuracy\"])\n",
    "model.compile(optimizer=opt, loss=\"sparse_categorical_crossentropy\", metrics=[\"accuracy\"])\n",
    "acc = model.fit(x_train, y_train, epochs=1, batch_size=32)\n",
    "test_loss, test_acc = model.evaluate(x_test, y_test)\n",
    "print(\"Test Loss: {0} - Test Acc: {1}\".format(test_loss, test_acc*100))"
   ]
  },
  {
   "cell_type": "code",
   "execution_count": 13,
   "id": "687f8c1e",
   "metadata": {},
   "outputs": [
    {
     "name": "stdout",
     "output_type": "stream",
     "text": [
      "313/313 [==============================] - 41s 130ms/step\n",
      "0.9857\n",
      "0.9858832221488264\n",
      "0.9854588246347864\n",
      "0.9855940898714124\n"
     ]
    }
   ],
   "source": [
    "from sklearn.metrics import accuracy_score, f1_score, precision_score, recall_score\n",
    "y_pred = model.predict(x_test)\n",
    "#accuracy = accuracy_score(y_test, y_pred)\n",
    "accuracy = accuracy_score(y_test, np.argmax(y_pred, axis=1))\n",
    "print (accuracy)\n",
    "precision = precision_score(y_test, np.argmax(y_pred, axis=1), average='macro')\n",
    "print (precision)\n",
    "recall = recall_score(y_test, np.argmax(y_pred, axis=1), average='macro')\n",
    "print(recall)\n",
    "f1 = f1_score(y_test, np.argmax(y_pred, axis=1), average='macro')\n",
    "print(f1)"
   ]
  },
  {
   "cell_type": "code",
   "execution_count": 14,
   "id": "15ac4b6b",
   "metadata": {},
   "outputs": [
    {
     "data": {
      "text/plain": [
       "array([[ 974,    0,    1,    0,    0,    0,    1,    0,    4,    0],\n",
       "       [   0, 1130,    4,    1,    0,    0,    0,    0,    0,    0],\n",
       "       [   0,    3, 1029,    0,    0,    0,    0,    0,    0,    0],\n",
       "       [   1,    1,    2,  993,    0,    4,    0,    3,    6,    0],\n",
       "       [   0,    0,    0,    0,  978,    0,    1,    0,    0,    3],\n",
       "       [   2,    0,    0,    5,    0,  865,    5,    0,   15,    0],\n",
       "       [   8,    5,    0,    0,    3,    0,  941,    0,    1,    0],\n",
       "       [   0,    9,   15,    0,    0,    1,    0,  998,    0,    5],\n",
       "       [   0,    1,    2,    1,    0,    0,    0,    1,  969,    0],\n",
       "       [   1,    0,    1,    0,   11,    4,    0,    4,    8,  980]],\n",
       "      dtype=int64)"
      ]
     },
     "execution_count": 14,
     "metadata": {},
     "output_type": "execute_result"
    }
   ],
   "source": [
    "from sklearn.metrics import confusion_matrix\n",
    "confusion_matrix(y_test, np.argmax(y_pred, axis=1))"
   ]
  },
  {
   "cell_type": "code",
   "execution_count": null,
   "id": "a80d9c11",
   "metadata": {},
   "outputs": [],
   "source": []
  }
 ],
 "metadata": {
  "kernelspec": {
   "display_name": "Python 3 (ipykernel)",
   "language": "python",
   "name": "python3"
  },
  "language_info": {
   "codemirror_mode": {
    "name": "ipython",
    "version": 3
   },
   "file_extension": ".py",
   "mimetype": "text/x-python",
   "name": "python",
   "nbconvert_exporter": "python",
   "pygments_lexer": "ipython3",
   "version": "3.10.5"
  }
 },
 "nbformat": 4,
 "nbformat_minor": 5
}
