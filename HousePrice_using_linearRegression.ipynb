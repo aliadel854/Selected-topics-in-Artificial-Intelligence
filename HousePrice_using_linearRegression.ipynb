{
 "cells": [
  {
   "cell_type": "code",
   "execution_count": 27,
   "id": "3c3235f3",
   "metadata": {},
   "outputs": [],
   "source": [
    "#importing libraries\n",
    "from pandas import read_csv\n",
    "import numpy as np\n",
    "from sklearn.model_selection import train_test_split\n",
    "import matplotlib.pyplot as plt\n",
    "import pandas as pd\n",
    "from sklearn.linear_model import LinearRegression\n",
    "import matplotlib.pyplot as plt\n",
    "from sklearn.metrics import accuracy_score\n",
    "from sklearn import preprocessing"
   ]
  },
  {
   "cell_type": "code",
   "execution_count": 28,
   "id": "9f272bac",
   "metadata": {},
   "outputs": [
    {
     "data": {
      "text/html": [
       "<div>\n",
       "<style scoped>\n",
       "    .dataframe tbody tr th:only-of-type {\n",
       "        vertical-align: middle;\n",
       "    }\n",
       "\n",
       "    .dataframe tbody tr th {\n",
       "        vertical-align: top;\n",
       "    }\n",
       "\n",
       "    .dataframe thead th {\n",
       "        text-align: right;\n",
       "    }\n",
       "</style>\n",
       "<table border=\"1\" class=\"dataframe\">\n",
       "  <thead>\n",
       "    <tr style=\"text-align: right;\">\n",
       "      <th></th>\n",
       "      <th>Avg. Area Income</th>\n",
       "      <th>Avg. Area House Age</th>\n",
       "      <th>Avg. Area Number of Rooms</th>\n",
       "      <th>Avg. Area Number of Bedrooms</th>\n",
       "      <th>Area Population</th>\n",
       "      <th>Price</th>\n",
       "      <th>Address</th>\n",
       "    </tr>\n",
       "  </thead>\n",
       "  <tbody>\n",
       "    <tr>\n",
       "      <th>0</th>\n",
       "      <td>79545.458574</td>\n",
       "      <td>5.682861</td>\n",
       "      <td>7.009188</td>\n",
       "      <td>4.09</td>\n",
       "      <td>23086.800503</td>\n",
       "      <td>1.059034e+06</td>\n",
       "      <td>208 Michael Ferry Apt. 674\\nLaurabury, NE 3701...</td>\n",
       "    </tr>\n",
       "    <tr>\n",
       "      <th>1</th>\n",
       "      <td>79248.642455</td>\n",
       "      <td>6.002900</td>\n",
       "      <td>6.730821</td>\n",
       "      <td>3.09</td>\n",
       "      <td>40173.072174</td>\n",
       "      <td>1.505891e+06</td>\n",
       "      <td>188 Johnson Views Suite 079\\nLake Kathleen, CA...</td>\n",
       "    </tr>\n",
       "    <tr>\n",
       "      <th>2</th>\n",
       "      <td>61287.067179</td>\n",
       "      <td>5.865890</td>\n",
       "      <td>8.512727</td>\n",
       "      <td>5.13</td>\n",
       "      <td>36882.159400</td>\n",
       "      <td>1.058988e+06</td>\n",
       "      <td>9127 Elizabeth Stravenue\\nDanieltown, WI 06482...</td>\n",
       "    </tr>\n",
       "    <tr>\n",
       "      <th>3</th>\n",
       "      <td>63345.240046</td>\n",
       "      <td>7.188236</td>\n",
       "      <td>5.586729</td>\n",
       "      <td>3.26</td>\n",
       "      <td>34310.242831</td>\n",
       "      <td>1.260617e+06</td>\n",
       "      <td>USS Barnett\\nFPO AP 44820</td>\n",
       "    </tr>\n",
       "    <tr>\n",
       "      <th>4</th>\n",
       "      <td>59982.197226</td>\n",
       "      <td>5.040555</td>\n",
       "      <td>7.839388</td>\n",
       "      <td>4.23</td>\n",
       "      <td>26354.109472</td>\n",
       "      <td>6.309435e+05</td>\n",
       "      <td>USNS Raymond\\nFPO AE 09386</td>\n",
       "    </tr>\n",
       "  </tbody>\n",
       "</table>\n",
       "</div>"
      ],
      "text/plain": [
       "   Avg. Area Income  Avg. Area House Age  Avg. Area Number of Rooms  \\\n",
       "0      79545.458574             5.682861                   7.009188   \n",
       "1      79248.642455             6.002900                   6.730821   \n",
       "2      61287.067179             5.865890                   8.512727   \n",
       "3      63345.240046             7.188236                   5.586729   \n",
       "4      59982.197226             5.040555                   7.839388   \n",
       "\n",
       "   Avg. Area Number of Bedrooms  Area Population         Price  \\\n",
       "0                          4.09     23086.800503  1.059034e+06   \n",
       "1                          3.09     40173.072174  1.505891e+06   \n",
       "2                          5.13     36882.159400  1.058988e+06   \n",
       "3                          3.26     34310.242831  1.260617e+06   \n",
       "4                          4.23     26354.109472  6.309435e+05   \n",
       "\n",
       "                                             Address  \n",
       "0  208 Michael Ferry Apt. 674\\nLaurabury, NE 3701...  \n",
       "1  188 Johnson Views Suite 079\\nLake Kathleen, CA...  \n",
       "2  9127 Elizabeth Stravenue\\nDanieltown, WI 06482...  \n",
       "3                          USS Barnett\\nFPO AP 44820  \n",
       "4                         USNS Raymond\\nFPO AE 09386  "
      ]
     },
     "execution_count": 28,
     "metadata": {},
     "output_type": "execute_result"
    }
   ],
   "source": [
    "dataset = pd.read_csv(\"USA_Housing.csv\")\n",
    "dataset.head()"
   ]
  },
  {
   "cell_type": "code",
   "execution_count": 29,
   "id": "4bf87646",
   "metadata": {},
   "outputs": [],
   "source": [
    "standarized_df = dataset.copy()\n",
    "standarized_df.iloc[:,5] = preprocessing.normalize([standarized_df.iloc[:,5]])[0]"
   ]
  },
  {
   "cell_type": "code",
   "execution_count": 30,
   "id": "7b130f38",
   "metadata": {},
   "outputs": [
    {
     "data": {
      "text/html": [
       "<div>\n",
       "<style scoped>\n",
       "    .dataframe tbody tr th:only-of-type {\n",
       "        vertical-align: middle;\n",
       "    }\n",
       "\n",
       "    .dataframe tbody tr th {\n",
       "        vertical-align: top;\n",
       "    }\n",
       "\n",
       "    .dataframe thead th {\n",
       "        text-align: right;\n",
       "    }\n",
       "</style>\n",
       "<table border=\"1\" class=\"dataframe\">\n",
       "  <thead>\n",
       "    <tr style=\"text-align: right;\">\n",
       "      <th></th>\n",
       "      <th>Avg. Area Income</th>\n",
       "      <th>Avg. Area House Age</th>\n",
       "      <th>Avg. Area Number of Rooms</th>\n",
       "      <th>Avg. Area Number of Bedrooms</th>\n",
       "      <th>Area Population</th>\n",
       "      <th>Price</th>\n",
       "      <th>Address</th>\n",
       "    </tr>\n",
       "  </thead>\n",
       "  <tbody>\n",
       "    <tr>\n",
       "      <th>0</th>\n",
       "      <td>79545.458574</td>\n",
       "      <td>5.682861</td>\n",
       "      <td>7.009188</td>\n",
       "      <td>4.09</td>\n",
       "      <td>23086.800503</td>\n",
       "      <td>1.059034e+06</td>\n",
       "      <td>208 Michael Ferry Apt. 674\\nLaurabury, NE 3701...</td>\n",
       "    </tr>\n",
       "    <tr>\n",
       "      <th>1</th>\n",
       "      <td>79248.642455</td>\n",
       "      <td>6.002900</td>\n",
       "      <td>6.730821</td>\n",
       "      <td>3.09</td>\n",
       "      <td>40173.072174</td>\n",
       "      <td>1.505891e+06</td>\n",
       "      <td>188 Johnson Views Suite 079\\nLake Kathleen, CA...</td>\n",
       "    </tr>\n",
       "    <tr>\n",
       "      <th>2</th>\n",
       "      <td>61287.067179</td>\n",
       "      <td>5.865890</td>\n",
       "      <td>8.512727</td>\n",
       "      <td>5.13</td>\n",
       "      <td>36882.159400</td>\n",
       "      <td>1.058988e+06</td>\n",
       "      <td>9127 Elizabeth Stravenue\\nDanieltown, WI 06482...</td>\n",
       "    </tr>\n",
       "    <tr>\n",
       "      <th>3</th>\n",
       "      <td>63345.240046</td>\n",
       "      <td>7.188236</td>\n",
       "      <td>5.586729</td>\n",
       "      <td>3.26</td>\n",
       "      <td>34310.242831</td>\n",
       "      <td>1.260617e+06</td>\n",
       "      <td>USS Barnett\\nFPO AP 44820</td>\n",
       "    </tr>\n",
       "    <tr>\n",
       "      <th>4</th>\n",
       "      <td>59982.197226</td>\n",
       "      <td>5.040555</td>\n",
       "      <td>7.839388</td>\n",
       "      <td>4.23</td>\n",
       "      <td>26354.109472</td>\n",
       "      <td>6.309435e+05</td>\n",
       "      <td>USNS Raymond\\nFPO AE 09386</td>\n",
       "    </tr>\n",
       "  </tbody>\n",
       "</table>\n",
       "</div>"
      ],
      "text/plain": [
       "   Avg. Area Income  Avg. Area House Age  Avg. Area Number of Rooms  \\\n",
       "0      79545.458574             5.682861                   7.009188   \n",
       "1      79248.642455             6.002900                   6.730821   \n",
       "2      61287.067179             5.865890                   8.512727   \n",
       "3      63345.240046             7.188236                   5.586729   \n",
       "4      59982.197226             5.040555                   7.839388   \n",
       "\n",
       "   Avg. Area Number of Bedrooms  Area Population         Price  \\\n",
       "0                          4.09     23086.800503  1.059034e+06   \n",
       "1                          3.09     40173.072174  1.505891e+06   \n",
       "2                          5.13     36882.159400  1.058988e+06   \n",
       "3                          3.26     34310.242831  1.260617e+06   \n",
       "4                          4.23     26354.109472  6.309435e+05   \n",
       "\n",
       "                                             Address  \n",
       "0  208 Michael Ferry Apt. 674\\nLaurabury, NE 3701...  \n",
       "1  188 Johnson Views Suite 079\\nLake Kathleen, CA...  \n",
       "2  9127 Elizabeth Stravenue\\nDanieltown, WI 06482...  \n",
       "3                          USS Barnett\\nFPO AP 44820  \n",
       "4                         USNS Raymond\\nFPO AE 09386  "
      ]
     },
     "execution_count": 30,
     "metadata": {},
     "output_type": "execute_result"
    }
   ],
   "source": [
    "dataset.head()"
   ]
  },
  {
   "cell_type": "code",
   "execution_count": 31,
   "id": "c7d9671a",
   "metadata": {},
   "outputs": [],
   "source": [
    "#split columns into features and label\n",
    "np.random.seed(42)\n",
    "array = np.array(dataset.values)\n",
    "data = array[:,0:3] #features\n",
    "labels = array [:,5] # label"
   ]
  },
  {
   "cell_type": "code",
   "execution_count": 32,
   "id": "cb87a430",
   "metadata": {},
   "outputs": [
    {
     "data": {
      "text/plain": [
       "(5000,)"
      ]
     },
     "execution_count": 32,
     "metadata": {},
     "output_type": "execute_result"
    }
   ],
   "source": [
    "labels.shape"
   ]
  },
  {
   "cell_type": "code",
   "execution_count": 33,
   "id": "0613293d",
   "metadata": {},
   "outputs": [
    {
     "data": {
      "text/plain": [
       "(5000, 3)"
      ]
     },
     "execution_count": 33,
     "metadata": {},
     "output_type": "execute_result"
    }
   ],
   "source": [
    "data.shape"
   ]
  },
  {
   "cell_type": "code",
   "execution_count": 34,
   "id": "abafde9f",
   "metadata": {},
   "outputs": [
    {
     "name": "stdout",
     "output_type": "stream",
     "text": [
      "(5000,)\n"
     ]
    }
   ],
   "source": [
    "labels = np.reshape(labels, (labels.shape[0], )) #Reshaping the labels to be 1D-nparray -> To fit model shape.\n",
    "print(labels.shape)"
   ]
  },
  {
   "cell_type": "code",
   "execution_count": 35,
   "id": "2868f63a",
   "metadata": {},
   "outputs": [],
   "source": [
    "#Split Data\n",
    "x_train, x_test, y_train, y_test = train_test_split(data, labels, test_size=0.2, random_state = 24)"
   ]
  },
  {
   "cell_type": "code",
   "execution_count": 36,
   "id": "533450fb",
   "metadata": {},
   "outputs": [
    {
     "data": {
      "text/plain": [
       "(1000, 3)"
      ]
     },
     "execution_count": 36,
     "metadata": {},
     "output_type": "execute_result"
    }
   ],
   "source": [
    "x_test.shape"
   ]
  },
  {
   "cell_type": "code",
   "execution_count": 37,
   "id": "6e44ef15",
   "metadata": {},
   "outputs": [
    {
     "data": {
      "text/plain": [
       "(4000, 3)"
      ]
     },
     "execution_count": 37,
     "metadata": {},
     "output_type": "execute_result"
    }
   ],
   "source": [
    "x_train.shape"
   ]
  },
  {
   "cell_type": "code",
   "execution_count": 38,
   "id": "67441d26",
   "metadata": {},
   "outputs": [],
   "source": [
    "reg = LinearRegression()"
   ]
  },
  {
   "cell_type": "code",
   "execution_count": 39,
   "id": "c02fb57b",
   "metadata": {},
   "outputs": [
    {
     "data": {
      "text/html": [
       "<style>#sk-container-id-2 {color: black;background-color: white;}#sk-container-id-2 pre{padding: 0;}#sk-container-id-2 div.sk-toggleable {background-color: white;}#sk-container-id-2 label.sk-toggleable__label {cursor: pointer;display: block;width: 100%;margin-bottom: 0;padding: 0.3em;box-sizing: border-box;text-align: center;}#sk-container-id-2 label.sk-toggleable__label-arrow:before {content: \"▸\";float: left;margin-right: 0.25em;color: #696969;}#sk-container-id-2 label.sk-toggleable__label-arrow:hover:before {color: black;}#sk-container-id-2 div.sk-estimator:hover label.sk-toggleable__label-arrow:before {color: black;}#sk-container-id-2 div.sk-toggleable__content {max-height: 0;max-width: 0;overflow: hidden;text-align: left;background-color: #f0f8ff;}#sk-container-id-2 div.sk-toggleable__content pre {margin: 0.2em;color: black;border-radius: 0.25em;background-color: #f0f8ff;}#sk-container-id-2 input.sk-toggleable__control:checked~div.sk-toggleable__content {max-height: 200px;max-width: 100%;overflow: auto;}#sk-container-id-2 input.sk-toggleable__control:checked~label.sk-toggleable__label-arrow:before {content: \"▾\";}#sk-container-id-2 div.sk-estimator input.sk-toggleable__control:checked~label.sk-toggleable__label {background-color: #d4ebff;}#sk-container-id-2 div.sk-label input.sk-toggleable__control:checked~label.sk-toggleable__label {background-color: #d4ebff;}#sk-container-id-2 input.sk-hidden--visually {border: 0;clip: rect(1px 1px 1px 1px);clip: rect(1px, 1px, 1px, 1px);height: 1px;margin: -1px;overflow: hidden;padding: 0;position: absolute;width: 1px;}#sk-container-id-2 div.sk-estimator {font-family: monospace;background-color: #f0f8ff;border: 1px dotted black;border-radius: 0.25em;box-sizing: border-box;margin-bottom: 0.5em;}#sk-container-id-2 div.sk-estimator:hover {background-color: #d4ebff;}#sk-container-id-2 div.sk-parallel-item::after {content: \"\";width: 100%;border-bottom: 1px solid gray;flex-grow: 1;}#sk-container-id-2 div.sk-label:hover label.sk-toggleable__label {background-color: #d4ebff;}#sk-container-id-2 div.sk-serial::before {content: \"\";position: absolute;border-left: 1px solid gray;box-sizing: border-box;top: 0;bottom: 0;left: 50%;z-index: 0;}#sk-container-id-2 div.sk-serial {display: flex;flex-direction: column;align-items: center;background-color: white;padding-right: 0.2em;padding-left: 0.2em;position: relative;}#sk-container-id-2 div.sk-item {position: relative;z-index: 1;}#sk-container-id-2 div.sk-parallel {display: flex;align-items: stretch;justify-content: center;background-color: white;position: relative;}#sk-container-id-2 div.sk-item::before, #sk-container-id-2 div.sk-parallel-item::before {content: \"\";position: absolute;border-left: 1px solid gray;box-sizing: border-box;top: 0;bottom: 0;left: 50%;z-index: -1;}#sk-container-id-2 div.sk-parallel-item {display: flex;flex-direction: column;z-index: 1;position: relative;background-color: white;}#sk-container-id-2 div.sk-parallel-item:first-child::after {align-self: flex-end;width: 50%;}#sk-container-id-2 div.sk-parallel-item:last-child::after {align-self: flex-start;width: 50%;}#sk-container-id-2 div.sk-parallel-item:only-child::after {width: 0;}#sk-container-id-2 div.sk-dashed-wrapped {border: 1px dashed gray;margin: 0 0.4em 0.5em 0.4em;box-sizing: border-box;padding-bottom: 0.4em;background-color: white;}#sk-container-id-2 div.sk-label label {font-family: monospace;font-weight: bold;display: inline-block;line-height: 1.2em;}#sk-container-id-2 div.sk-label-container {text-align: center;}#sk-container-id-2 div.sk-container {/* jupyter's `normalize.less` sets `[hidden] { display: none; }` but bootstrap.min.css set `[hidden] { display: none !important; }` so we also need the `!important` here to be able to override the default hidden behavior on the sphinx rendered scikit-learn.org. See: https://github.com/scikit-learn/scikit-learn/issues/21755 */display: inline-block !important;position: relative;}#sk-container-id-2 div.sk-text-repr-fallback {display: none;}</style><div id=\"sk-container-id-2\" class=\"sk-top-container\"><div class=\"sk-text-repr-fallback\"><pre>LinearRegression()</pre><b>In a Jupyter environment, please rerun this cell to show the HTML representation or trust the notebook. <br />On GitHub, the HTML representation is unable to render, please try loading this page with nbviewer.org.</b></div><div class=\"sk-container\" hidden><div class=\"sk-item\"><div class=\"sk-estimator sk-toggleable\"><input class=\"sk-toggleable__control sk-hidden--visually\" id=\"sk-estimator-id-2\" type=\"checkbox\" checked><label for=\"sk-estimator-id-2\" class=\"sk-toggleable__label sk-toggleable__label-arrow\">LinearRegression</label><div class=\"sk-toggleable__content\"><pre>LinearRegression()</pre></div></div></div></div></div>"
      ],
      "text/plain": [
       "LinearRegression()"
      ]
     },
     "execution_count": 39,
     "metadata": {},
     "output_type": "execute_result"
    }
   ],
   "source": [
    "reg.fit(x_train, y_train)"
   ]
  },
  {
   "cell_type": "code",
   "execution_count": 40,
   "id": "4fc8bdef",
   "metadata": {},
   "outputs": [],
   "source": [
    "predict = reg.predict(x_test)"
   ]
  },
  {
   "cell_type": "code",
   "execution_count": 41,
   "id": "d5533f1c",
   "metadata": {},
   "outputs": [],
   "source": [
    "#predict "
   ]
  },
  {
   "cell_type": "code",
   "execution_count": 42,
   "id": "0f216012",
   "metadata": {},
   "outputs": [],
   "source": [
    "def mean_squared_error(act, pred):\n",
    "    s = 0\n",
    "    diff = pred - act\n",
    "    differences_squared = diff ** 2\n",
    "    s += differences_squared \n",
    "    x = 0\n",
    "    for l in s:\n",
    "        x += l\n",
    "    x = x / (len(act))\n",
    "    return x"
   ]
  },
  {
   "cell_type": "code",
   "execution_count": 43,
   "id": "d19709c6",
   "metadata": {},
   "outputs": [
    {
     "data": {
      "text/plain": [
       "29648372520.11386"
      ]
     },
     "execution_count": 43,
     "metadata": {},
     "output_type": "execute_result"
    }
   ],
   "source": [
    "mean_squared_error( y_test, predict )"
   ]
  },
  {
   "cell_type": "code",
   "execution_count": 44,
   "id": "13205cc6",
   "metadata": {},
   "outputs": [],
   "source": [
    "def gradient_decent(X, Y, iterations = 16 , learning_rate = 0.0001, stop_learning = 1e-6):\n",
    "        current_weight1 = 0.1\n",
    "        current_weight2 = 0.1\n",
    "        current_weight3 = 0.1\n",
    "        current_bias = 0.01\n",
    "        iterations = iterations\n",
    "        learning_rate = learning_rate\n",
    "        previous_loss = None\n",
    "        length = float(len(X))\n",
    "        \n",
    "        loss = []\n",
    "        weights = [[] , [] , []]\n",
    "        y_predict = []\n",
    "        for j in range (16) :\n",
    "            \n",
    "            y_predict=((current_weight1 * X[0]) + (current_weight2 * X[1]) + (current_weight3 * X[2]) + current_bias)   \n",
    "            current_loss = mean_squared_error(y_test , y_predict)\n",
    "            if previous_loss and abs(previous_loss - current_loss) <= stop_learning:\n",
    "                break\n",
    "            previous_loss = current_loss\n",
    "            loss.append(current_loss)\n",
    "            weights.append(current_weight1)\n",
    "            weights.append(current_weight2)\n",
    "            weights.append(current_weight3)\n",
    "\n",
    "             #Calculating the gradients           \n",
    "            weight1 = -(2/length) * sum(X[0] * (Y - y_predict))\n",
    "            weight2 = -(2/length) * sum(X[1] * (Y - y_predict))\n",
    "            weight3 = -(2/length) * sum(X[2] * (Y - y_predict))\n",
    "            bias = -(2/length) * sum(Y - y_predict)\n",
    "\n",
    "            #Update Wight & Bias\n",
    "            current_weight1 = current_weight1 - (learning_rate * weight1)\n",
    "            current_weight2 = current_weight2 - (learning_rate * weight2)\n",
    "            current_weight3 = current_weight3 - (learning_rate * weight3)\n",
    "            current_bias = current_bias - (learning_rate * bias)\n",
    "\n",
    "            print(f\"Iteration {j+1}: loss {current_loss}, Weight :{current_weight1 , current_weight2 , current_weight3}, Bias {current_bias}\")\n",
    "        \n",
    "        \n",
    "        return current_weight1 , current_weight2 , current_weight3 , current_bias ,current_loss"
   ]
  },
  {
   "cell_type": "code",
   "execution_count": 45,
   "id": "09befd8b",
   "metadata": {},
   "outputs": [
    {
     "name": "stdout",
     "output_type": "stream",
     "text": [
      "Iteration 1: loss 943768436891.841, Weight :(166054090.74257553, 260181074.98679087, 173089043.465528), Bias 181.2236461805232\n",
      "Iteration 2: loss 4.775522328836226e+29, Weight :(-1.2664822717718125e+17, -1.984381821125507e+17, -1.3201373360457154e+17), Bias -138210308100.59546\n",
      "Iteration 3: loss 2.777921401787954e+47, Weight :(9.65936665943276e+25, 1.5134733450116472e+26, 1.0068589868086347e+26), Bias 1.054119802395054e+20\n",
      "Iteration 4: loss 1.6159169161266652e+65, Weight :(-7.36712754224588e+34, -1.1543149315697737e+35, -7.679239058216929e+34), Bias -8.039693804839222e+28\n",
      "Iteration 5: loss 9.399788914631508e+82, Weight :(5.618853713428131e+43, 8.803874647918728e+43, 5.856898859309243e+43), Bias 6.131815029820486e+37\n",
      "Iteration 6: loss 5.467857335847096e+100, Weight :(-4.285458188671581e+52, -6.714650109468921e+52, -4.46701346163612e+52), Bias -4.67668999250921e+46\n",
      "Iteration 7: loss 3.180652684512902e+118, Weight :(3.2684872793470536e+61, 5.121213999026194e+61, 3.406958143851429e+61), Bias 3.566876883870555e+55\n",
      "Iteration 8: loss 1.8501857086094118e+136, Weight :(-2.4928510849769777e+70, -3.905912057403643e+70, -2.5984617896594562e+70), Bias -2.720430630439025e+64\n",
      "Iteration 9: loss 1.0762530511459239e+154, Weight :(1.901279093584989e+79, 2.97901025090374e+79, 1.9818275972970127e+79), Bias 2.0748523304791534e+73\n",
      "Iteration 10: loss 6.260564140728834e+171, Weight :(-1.4500915090709413e+88, -2.2720690954032918e+88, -1.5115252573802402e+88), Bias -1.582474533673368e+82\n",
      "Iteration 11: loss 3.6417702433871637e+189, Weight :(1.1059740738613416e+97, 1.7328903023144687e+97, 1.1528291395349749e+97), Bias 1.2069416280561965e+91\n",
      "Iteration 12: loss 2.118417798699639e+207, Weight :(-8.435182499876549e+105, -1.3216626228185623e+106, -8.792542621909486e+105), Bias -9.205254571481542e+99\n",
      "Iteration 13: loss 1.2322836614957747e+225, Weight :(6.433451333791704e+114, 1.0080223117542539e+115, 6.706007257006277e+114), Bias 7.020779609884604e+108\n",
      "Iteration 14: loss 7.168194221750947e+242, Weight :(-4.906745771638218e+123, -7.688111651576258e+123, -5.114622159346858e+123), Bias -5.354696705866385e+117\n",
      "Iteration 15: loss 4.1697386735111003e+260, Weight :(3.742338725876405e+132, 5.863665920671687e+132, 3.9008845100117616e+132), Bias 4.083987591840427e+126\n",
      "Iteration 16: loss 2.425537041479095e+278, Weight :(-2.8542540801982273e+141, -4.472174649310407e+141, -2.975175777675236e+141), Bias -3.114827144557952e+135\n"
     ]
    },
    {
     "data": {
      "text/plain": [
       "(-2.8542540801982273e+141,\n",
       " -4.472174649310407e+141,\n",
       " -2.975175777675236e+141,\n",
       " -3.114827144557952e+135,\n",
       " 2.425537041479095e+278)"
      ]
     },
     "execution_count": 45,
     "metadata": {},
     "output_type": "execute_result"
    }
   ],
   "source": [
    "gradient_decent(y_test, predict)"
   ]
  },
  {
   "cell_type": "code",
   "execution_count": 46,
   "id": "7cf8ef26",
   "metadata": {},
   "outputs": [],
   "source": [
    "def calculate_accuracy(predicted_y, y):\n",
    "    accuracy = (predicted_y - y) / y\n",
    "    acc = sum(accuracy) / len(y)  \n",
    "    return (1 - acc) * 100 "
   ]
  },
  {
   "cell_type": "code",
   "execution_count": 47,
   "id": "e2e84bea",
   "metadata": {},
   "outputs": [
    {
     "data": {
      "text/plain": [
       "99.95629121556877"
      ]
     },
     "execution_count": 47,
     "metadata": {},
     "output_type": "execute_result"
    }
   ],
   "source": [
    "calculate_accuracy(y_test , predict)"
   ]
  },
  {
   "cell_type": "code",
   "execution_count": null,
   "id": "d919048c",
   "metadata": {},
   "outputs": [],
   "source": []
  }
 ],
 "metadata": {
  "kernelspec": {
   "display_name": "Python 3 (ipykernel)",
   "language": "python",
   "name": "python3"
  },
  "language_info": {
   "codemirror_mode": {
    "name": "ipython",
    "version": 3
   },
   "file_extension": ".py",
   "mimetype": "text/x-python",
   "name": "python",
   "nbconvert_exporter": "python",
   "pygments_lexer": "ipython3",
   "version": "3.10.5"
  }
 },
 "nbformat": 4,
 "nbformat_minor": 5
}
